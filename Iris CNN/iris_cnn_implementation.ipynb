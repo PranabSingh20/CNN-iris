{
  "nbformat": 4,
  "nbformat_minor": 0,
  "metadata": {
    "colab": {
      "name": "iris cnn implementation.ipynb",
      "provenance": [],
      "collapsed_sections": []
    },
    "kernelspec": {
      "name": "python3",
      "display_name": "Python 3"
    },
    "language_info": {
      "name": "python"
    }
  },
  "cells": [
    {
      "cell_type": "code",
      "metadata": {
        "id": "84eN7ZZXscKO"
      },
      "source": [
        "import numpy as np\n",
        "import pandas as pd\n",
        "import tensorflow as tf"
      ],
      "execution_count": null,
      "outputs": []
    },
    {
      "cell_type": "code",
      "metadata": {
        "colab": {
          "base_uri": "https://localhost:8080/"
        },
        "id": "-hCMqUOpubw9",
        "outputId": "6a5c1958-0630-4381-84b5-6e56ae8fab9f"
      },
      "source": [
        "from sklearn.datasets import load_iris\n",
        "iris = load_iris()\n",
        "x, y = iris.data, iris.target\n",
        "print(x.shape)\n",
        "print(y.shape)"
      ],
      "execution_count": null,
      "outputs": [
        {
          "output_type": "stream",
          "text": [
            "(150, 4)\n",
            "(150,)\n"
          ],
          "name": "stdout"
        }
      ]
    },
    {
      "cell_type": "code",
      "metadata": {
        "colab": {
          "base_uri": "https://localhost:8080/"
        },
        "id": "0uG6y4F76wXm",
        "outputId": "5e846d25-8ae4-4b5d-8d00-6f0570a44b5e"
      },
      "source": [
        "x = x.reshape(x.shape[0], x.shape[1], 1)\n",
        "print(x.shape)"
      ],
      "execution_count": null,
      "outputs": [
        {
          "output_type": "stream",
          "text": [
            "(150, 4, 1)\n"
          ],
          "name": "stdout"
        }
      ]
    },
    {
      "cell_type": "code",
      "metadata": {
        "id": "JnwhcAj_upqJ"
      },
      "source": [
        "from tensorflow import keras"
      ],
      "execution_count": null,
      "outputs": []
    },
    {
      "cell_type": "code",
      "metadata": {
        "id": "CazYDeEMu6Fy"
      },
      "source": [
        "cnn = tf.keras.models.Sequential()"
      ],
      "execution_count": null,
      "outputs": []
    },
    {
      "cell_type": "code",
      "metadata": {
        "colab": {
          "base_uri": "https://localhost:8080/"
        },
        "id": "N0v7Qmo3vBGi",
        "outputId": "52246bd1-796e-4343-8a62-e8b7bdf4fb5f"
      },
      "source": [
        "cnn.add(tf.keras.layers.Conv1D(filters= 64, kernel_size = 2, activation='relu', input_shape = (4,1)))\n",
        "cnn.add(tf.keras.layers.Dense(units=16, activation='relu'))\n",
        "cnn.add(tf.keras.layers.MaxPool1D())\n",
        "cnn.add(tf.keras.layers.Flatten())\n",
        "cnn.add(tf.keras.layers.Dense(3, activation = 'softmax'))\n",
        "cnn.summary()"
      ],
      "execution_count": null,
      "outputs": [
        {
          "output_type": "stream",
          "text": [
            "Model: \"sequential\"\n",
            "_________________________________________________________________\n",
            "Layer (type)                 Output Shape              Param #   \n",
            "=================================================================\n",
            "conv1d (Conv1D)              (None, 3, 64)             192       \n",
            "_________________________________________________________________\n",
            "dense (Dense)                (None, 3, 16)             1040      \n",
            "_________________________________________________________________\n",
            "max_pooling1d (MaxPooling1D) (None, 1, 16)             0         \n",
            "_________________________________________________________________\n",
            "flatten (Flatten)            (None, 16)                0         \n",
            "_________________________________________________________________\n",
            "dense_1 (Dense)              (None, 3)                 51        \n",
            "=================================================================\n",
            "Total params: 1,283\n",
            "Trainable params: 1,283\n",
            "Non-trainable params: 0\n",
            "_________________________________________________________________\n"
          ],
          "name": "stdout"
        }
      ]
    },
    {
      "cell_type": "code",
      "metadata": {
        "colab": {
          "base_uri": "https://localhost:8080/"
        },
        "id": "3es8NMbkzCoy",
        "outputId": "12c822cf-1233-48c1-e74a-f3628c58b764"
      },
      "source": [
        "from sklearn.model_selection import train_test_split\n",
        "X_train,X_test,Y_train,Y_test=train_test_split(x, y,test_size = 0.2, random_state=5)\n",
        "print(X_train.shape)\n",
        "print(Y_train.shape)"
      ],
      "execution_count": null,
      "outputs": [
        {
          "output_type": "stream",
          "text": [
            "(120, 4, 1)\n",
            "(120,)\n"
          ],
          "name": "stdout"
        }
      ]
    },
    {
      "cell_type": "code",
      "metadata": {
        "id": "bZy_aK9pxlbs"
      },
      "source": [
        "cnn.compile(optimizer='adam', loss='sparse_categorical_crossentropy', metrics = ['accuracy'])"
      ],
      "execution_count": null,
      "outputs": []
    },
    {
      "cell_type": "code",
      "metadata": {
        "colab": {
          "base_uri": "https://localhost:8080/"
        },
        "id": "W7jxxQGWx1dC",
        "outputId": "254206f7-65a4-4515-d90f-04b8313799dd"
      },
      "source": [
        "cnn.fit(X_train,Y_train,batch_size=10,epochs=30,verbose=1)"
      ],
      "execution_count": null,
      "outputs": [
        {
          "output_type": "stream",
          "text": [
            "Epoch 1/30\n",
            "12/12 [==============================] - 0s 3ms/step - loss: 0.3908 - accuracy: 0.9250\n",
            "Epoch 2/30\n",
            "12/12 [==============================] - 0s 2ms/step - loss: 0.3831 - accuracy: 0.9083\n",
            "Epoch 3/30\n",
            "12/12 [==============================] - 0s 2ms/step - loss: 0.3752 - accuracy: 0.9167\n",
            "Epoch 4/30\n",
            "12/12 [==============================] - 0s 2ms/step - loss: 0.3665 - accuracy: 0.9167\n",
            "Epoch 5/30\n",
            "12/12 [==============================] - 0s 3ms/step - loss: 0.3616 - accuracy: 0.9083\n",
            "Epoch 6/30\n",
            "12/12 [==============================] - 0s 2ms/step - loss: 0.3547 - accuracy: 0.9083\n",
            "Epoch 7/30\n",
            "12/12 [==============================] - 0s 2ms/step - loss: 0.3521 - accuracy: 0.9333\n",
            "Epoch 8/30\n",
            "12/12 [==============================] - 0s 2ms/step - loss: 0.3425 - accuracy: 0.9167\n",
            "Epoch 9/30\n",
            "12/12 [==============================] - 0s 3ms/step - loss: 0.3372 - accuracy: 0.9250\n",
            "Epoch 10/30\n",
            "12/12 [==============================] - 0s 3ms/step - loss: 0.3300 - accuracy: 0.9333\n",
            "Epoch 11/30\n",
            "12/12 [==============================] - 0s 2ms/step - loss: 0.3252 - accuracy: 0.9500\n",
            "Epoch 12/30\n",
            "12/12 [==============================] - 0s 3ms/step - loss: 0.3199 - accuracy: 0.9250\n",
            "Epoch 13/30\n",
            "12/12 [==============================] - 0s 3ms/step - loss: 0.3150 - accuracy: 0.9250\n",
            "Epoch 14/30\n",
            "12/12 [==============================] - 0s 2ms/step - loss: 0.3138 - accuracy: 0.9333\n",
            "Epoch 15/30\n",
            "12/12 [==============================] - 0s 2ms/step - loss: 0.3057 - accuracy: 0.9417\n",
            "Epoch 16/30\n",
            "12/12 [==============================] - 0s 2ms/step - loss: 0.3075 - accuracy: 0.9083\n",
            "Epoch 17/30\n",
            "12/12 [==============================] - 0s 2ms/step - loss: 0.3049 - accuracy: 0.9333\n",
            "Epoch 18/30\n",
            "12/12 [==============================] - 0s 2ms/step - loss: 0.2917 - accuracy: 0.9333\n",
            "Epoch 19/30\n",
            "12/12 [==============================] - 0s 2ms/step - loss: 0.2889 - accuracy: 0.9250\n",
            "Epoch 20/30\n",
            "12/12 [==============================] - 0s 2ms/step - loss: 0.2857 - accuracy: 0.9500\n",
            "Epoch 21/30\n",
            "12/12 [==============================] - 0s 3ms/step - loss: 0.2823 - accuracy: 0.9250\n",
            "Epoch 22/30\n",
            "12/12 [==============================] - 0s 2ms/step - loss: 0.2793 - accuracy: 0.9417\n",
            "Epoch 23/30\n",
            "12/12 [==============================] - 0s 2ms/step - loss: 0.2765 - accuracy: 0.9250\n",
            "Epoch 24/30\n",
            "12/12 [==============================] - 0s 2ms/step - loss: 0.2800 - accuracy: 0.9333\n",
            "Epoch 25/30\n",
            "12/12 [==============================] - 0s 2ms/step - loss: 0.2702 - accuracy: 0.9250\n",
            "Epoch 26/30\n",
            "12/12 [==============================] - 0s 2ms/step - loss: 0.2644 - accuracy: 0.9417\n",
            "Epoch 27/30\n",
            "12/12 [==============================] - 0s 2ms/step - loss: 0.2586 - accuracy: 0.9500\n",
            "Epoch 28/30\n",
            "12/12 [==============================] - 0s 2ms/step - loss: 0.2586 - accuracy: 0.9250\n",
            "Epoch 29/30\n",
            "12/12 [==============================] - 0s 2ms/step - loss: 0.2589 - accuracy: 0.9250\n",
            "Epoch 30/30\n",
            "12/12 [==============================] - 0s 2ms/step - loss: 0.2513 - accuracy: 0.9333\n"
          ],
          "name": "stdout"
        },
        {
          "output_type": "execute_result",
          "data": {
            "text/plain": [
              "<keras.callbacks.History at 0x7fb94d85a550>"
            ]
          },
          "metadata": {},
          "execution_count": 13
        }
      ]
    },
    {
      "cell_type": "code",
      "metadata": {
        "colab": {
          "base_uri": "https://localhost:8080/"
        },
        "id": "0SJncHSD_mwi",
        "outputId": "edc5eccb-5757-4a47-f7f3-f1e878e2c2a0"
      },
      "source": [
        "cnn.evaluate(X_train,Y_train)"
      ],
      "execution_count": null,
      "outputs": [
        {
          "output_type": "stream",
          "text": [
            "4/4 [==============================] - 0s 3ms/step - loss: 0.2460 - accuracy: 0.9417\n"
          ],
          "name": "stdout"
        },
        {
          "output_type": "execute_result",
          "data": {
            "text/plain": [
              "[0.24600860476493835, 0.9416666626930237]"
            ]
          },
          "metadata": {},
          "execution_count": 14
        }
      ]
    },
    {
      "cell_type": "code",
      "metadata": {
        "colab": {
          "base_uri": "https://localhost:8080/"
        },
        "id": "RuTYjX9SF3CG",
        "outputId": "b6bed733-2bc7-44df-b568-fcd5124364d9"
      },
      "source": [
        "from sklearn.metrics import accuracy_score\n",
        "pred = cnn.predict(X_test)\n",
        "pred_y = pred.argmax(axis=-1)\n",
        "acc = accuracy_score(pred_y, Y_test)\n",
        "print(acc)"
      ],
      "execution_count": null,
      "outputs": [
        {
          "output_type": "stream",
          "text": [
            "0.9666666666666667\n"
          ],
          "name": "stdout"
        }
      ]
    }
  ]
}